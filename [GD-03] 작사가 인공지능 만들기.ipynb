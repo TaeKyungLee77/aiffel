{
 "cells": [
  {
   "cell_type": "markdown",
   "id": "c6bf8659",
   "metadata": {},
   "source": [
    "# 파일내용 확인"
   ]
  },
  {
   "cell_type": "code",
   "execution_count": 2,
   "id": "de73a211",
   "metadata": {},
   "outputs": [
    {
     "name": "stdout",
     "output_type": "stream",
     "text": [
      "['First Citizen:', 'Before we proceed any further, hear me speak.', '', 'All:', 'Speak, speak.', '', 'First Citizen:', 'You are all resolved rather to die than to famish?', '']\n"
     ]
    }
   ],
   "source": [
    "# os: Operating System의 줄임말로, 운영체제에서 제공되는 여러 기능을 파이썬에서 사용할 수 있도록 함 (Ex. 디렉토리 경로 이동, 시스템 환경 변수 가져오기 등)\n",
    "# re: Regular Expression의 줄임말로, 파이썬 정규표현식을 사용하기 위한 모듈\n",
    "# numpy(NumPy): 행렬이나 대규모 다차원 배열을 쉽게 처리할 수 있도록 지원하는 라이브러리. 데이터 구조 외에도 수치 계산을 위해 효율적으로 구현된 기능을 제공\n",
    "# tensorflow(TensorFlow): 데이터 흐름 프로그래밍을 위한 라이브러리. 데이터 그래프를 수치적으로 연산하기 위해 구글에서 만든 오픈 소스 라이브러리.\n",
    "import os, re \n",
    "import numpy as np\n",
    "import tensorflow as tf\n",
    "from sklearn.model_selection import train_test_split\n",
    "\n",
    "# os 모듈에 있는 getenv() 함수를 이용하여 읽고싶은 파일의 경로를 file_path에 저장\n",
    "# 파일을 읽기모드로 열고\n",
    "# 라인 단위로 끊어서 list 형태로 읽어옵니다.\n",
    "file_path = os.getenv('HOME') + '/aiffel/lyricist/data/shakespeare.txt'\n",
    "with open(file_path, \"r\") as f:\n",
    "    raw_corpus = f.read().splitlines()\n",
    "\n",
    "# 앞에서부터 10라인만 화면에 출력해 볼까요?\n",
    "print(raw_corpus[:9])"
   ]
  },
  {
   "cell_type": "markdown",
   "id": "c4e79be6",
   "metadata": {},
   "source": [
    "### 원하는 형식으로 데이터 출력"
   ]
  },
  {
   "cell_type": "code",
   "execution_count": 3,
   "id": "3bb2e9d6",
   "metadata": {},
   "outputs": [
    {
     "name": "stdout",
     "output_type": "stream",
     "text": [
      "Before we proceed any further, hear me speak.\n",
      "Speak, speak.\n",
      "You are all resolved rather to die than to famish?\n"
     ]
    }
   ],
   "source": [
    "# enumerate() 함수를 이용하여 raw_corpus list 내에 저장된 문장과 그 문장의 인덱스를 반환 (인덱스, 문장 순)\n",
    "for idx, sentence in enumerate(raw_corpus):\n",
    "    if len(sentence) == 0: continue   # 길이가 0인 문장은 건너뜁니다.\n",
    "    if sentence[-1] == \":\": continue  # 문장의 끝이 : 인 문장은 건너뜁니다.\n",
    "\n",
    "    if idx > 9: break   # 일단 문장 10개만 확인해 볼 겁니다.\n",
    "        \n",
    "    print(sentence)"
   ]
  },
  {
   "cell_type": "markdown",
   "id": "31c78152",
   "metadata": {},
   "source": [
    "### 중간에 특수 문자 및 불필요한 문장 필터링 Hi, my name is John. *(\"Hi,\" \"my\", ..., \"john.\" 으로 분리됨) - 문장부호\n",
    "\n",
    "### First, open the first chapter. *(First와 first를 다른 단어로 인식) - 대소문자\n",
    "\n",
    "### He is a ten-year-old boy. *(ten-year-old를 한 단어로 인식) - 특수문자\n",
    "\n",
    "### \"1.\" 을 막기 위해 문장 부호 양쪽에 공백을 추가 할 거고요, \"2.\" 를 막기 위해 모든 문자들을 소문자로 변환 할 겁니다. \"3.\"을 막기 위해 특수문자들은 모두 제거"
   ]
  },
  {
   "cell_type": "code",
   "execution_count": 4,
   "id": "1fd1486c",
   "metadata": {},
   "outputs": [
    {
     "name": "stdout",
     "output_type": "stream",
     "text": [
      "<start> this is sample sentence . <end>\n"
     ]
    }
   ],
   "source": [
    "# 입력된 문장을\n",
    "#     1. 소문자로 바꾸고, 양쪽 공백을 지웁니다\n",
    "#     2. 특수문자 양쪽에 공백을 넣고\n",
    "#     3. 여러개의 공백은 하나의 공백으로 바꿉니다\n",
    "#     4. a-zA-Z?.!,¿가 아닌 모든 문자를 하나의 공백으로 바꿉니다\n",
    "#     5. 다시 양쪽 공백을 지웁니다\n",
    "#     6. 문장 시작에는 <start>, 끝에는 <end>를 추가합니다\n",
    "# 이 순서로 처리해주면 문제가 되는 상황을 방지할 수 있겠네요!\n",
    "def preprocess_sentence(sentence):\n",
    "    sentence = sentence.lower().strip() # 1\n",
    "    sentence = re.sub(r\"([?.!,¿])\", r\" \\1 \", sentence) # 2\n",
    "    sentence = re.sub(r'[\" \"]+', \" \", sentence) # 3\n",
    "    sentence = re.sub(r\"[^a-zA-Z?.!,¿]+\", \" \", sentence) # 4\n",
    "    sentence = sentence.strip() # 5\n",
    "    sentence = '<start> ' + sentence + ' <end>' # 6\n",
    "    return sentence\n",
    "\n",
    "# 이 문장이 어떻게 필터링되는지 확인해 보세요.\n",
    "print(preprocess_sentence(\"This @_is ;;;sample        sentence.\"))"
   ]
  },
  {
   "cell_type": "markdown",
   "id": "0eb19f0e",
   "metadata": {},
   "source": [
    "### 자연어처리 분야에서 모델의 입력이 되는 문장을 소스 문장(Source Sentence) , 정답 역할을 하게 될 모델의 출력 문장을 타겟 문장(Target Sentence) 라고 관례적으로 부릅니다. 각각 X_train, y_train 에 해당"
   ]
  },
  {
   "cell_type": "markdown",
   "id": "c5678642",
   "metadata": {},
   "source": [
    "### 우리는 위에서 만든 정제 함수를 통해 만든 데이터셋에서 토큰화를 진행한 후 끝 단어 <end>를 없애면 소스 문장, 첫 단어 <start>를 없애면 타겟 문장이 되겠죠? 이 정제 함수를 활용해서 아래와 같이 정제 데이터를 구축"
   ]
  },
  {
   "cell_type": "code",
   "execution_count": 5,
   "id": "76333f43",
   "metadata": {},
   "outputs": [
    {
     "data": {
      "text/plain": [
       "['<start> before we proceed any further , hear me speak . <end>',\n",
       " '<start> speak , speak . <end>',\n",
       " '<start> you are all resolved rather to die than to famish ? <end>',\n",
       " '<start> resolved . resolved . <end>',\n",
       " '<start> first , you know caius marcius is chief enemy to the people . <end>',\n",
       " '<start> we know t , we know t . <end>',\n",
       " '<start> let us kill him , and we ll have corn at our own price . <end>',\n",
       " '<start> is t a verdict ? <end>',\n",
       " '<start> no more talking on t let it be done away , away ! <end>',\n",
       " '<start> one word , good citizens . <end>']"
      ]
     },
     "execution_count": 5,
     "metadata": {},
     "output_type": "execute_result"
    }
   ],
   "source": [
    "# 여기에 정제된 문장을 모을겁니다\n",
    "corpus = []\n",
    "\n",
    "# raw_corpus list에 저장된 문장들을 순서대로 반환하여 sentence에 저장\n",
    "for sentence in raw_corpus:\n",
    "    # 우리가 원하지 않는 문장은 건너뜁니다\n",
    "    if len(sentence) == 0: continue\n",
    "    if sentence[-1] == \":\": continue\n",
    "    \n",
    "    # 앞서 구현한 preprocess_sentence() 함수를 이용하여 문장을 정제를 하고 담아주세요\n",
    "    preprocessed_sentence = preprocess_sentence(sentence)\n",
    "    corpus.append(preprocessed_sentence)\n",
    "        \n",
    "# 정제된 결과를 10개만 확인해보죠\n",
    "corpus[:10]"
   ]
  },
  {
   "cell_type": "markdown",
   "id": "6097e04d",
   "metadata": {},
   "source": [
    "# 단어 토큰화"
   ]
  },
  {
   "cell_type": "code",
   "execution_count": 6,
   "id": "0b445684",
   "metadata": {},
   "outputs": [
    {
     "name": "stdout",
     "output_type": "stream",
     "text": [
      "[[   2  143   40 ...    0    0    0]\n",
      " [   2  110    4 ...    0    0    0]\n",
      " [   2   11   50 ...    0    0    0]\n",
      " ...\n",
      " [   2  149 4553 ...    0    0    0]\n",
      " [   2   34   71 ...    0    0    0]\n",
      " [   2  945   34 ...    0    0    0]] <keras_preprocessing.text.Tokenizer object at 0x7f9152d08df0>\n"
     ]
    }
   ],
   "source": [
    "# 토큰화 할 때 텐서플로우의 Tokenizer와 pad_sequences를 사용합니다\n",
    "# 더 잘 알기 위해 아래 문서들을 참고하면 좋습니다\n",
    "# https://www.tensorflow.org/api_docs/python/tf/keras/preprocessing/text/Tokenizer\n",
    "# https://www.tensorflow.org/api_docs/python/tf/keras/preprocessing/sequence/pad_sequences\n",
    "def tokenize(corpus):\n",
    "    # 7000단어를 기억할 수 있는 tokenizer를 만들겁니다\n",
    "    # 우리는 이미 문장을 정제했으니 filters가 필요없어요\n",
    "    # 7000단어에 포함되지 못한 단어는 '<unk>'로 바꿀거에요\n",
    "    tokenizer = tf.keras.preprocessing.text.Tokenizer(\n",
    "        num_words=7000, \n",
    "        filters=' ',\n",
    "        oov_token=\"<unk>\"\n",
    "    )\n",
    "    # corpus를 이용해 tokenizer 내부의 단어장을 완성합니다\n",
    "    # tokenizer.fit_on_texts(texts): 문자 데이터를 입력받아 리스트의 형태로 변환하는 메서드\n",
    "    tokenizer.fit_on_texts(corpus)\n",
    "    # 준비한 tokenizer를 이용해 corpus를 Tensor로 변환합니다\n",
    "    # tokenizer.texts_to_sequences(texts): 텍스트 안의 단어들을 숫자의 시퀀스 형태로 변환하는 메서드\n",
    "    tensor = tokenizer.texts_to_sequences(corpus)   \n",
    "    # 입력 데이터의 시퀀스 길이를 일정하게 맞춰줍니다\n",
    "    # 만약 시퀀스가 짧다면 문장 뒤에 패딩을 붙여 길이를 맞춰줍니다.\n",
    "    # 문장 앞에 패딩을 붙여 길이를 맞추고 싶다면 padding='pre'를 사용합니다\n",
    "    tensor = tf.keras.preprocessing.sequence.pad_sequences(tensor, padding='post',maxlen=20)  \n",
    "    \n",
    "    print(tensor,tokenizer)\n",
    "    return tensor, tokenizer\n",
    "\n",
    "tensor, tokenizer = tokenize(corpus)"
   ]
  },
  {
   "cell_type": "markdown",
   "id": "9caeee71",
   "metadata": {},
   "source": [
    "### 3행 10열 까지 출력"
   ]
  },
  {
   "cell_type": "code",
   "execution_count": 7,
   "id": "66bffad8",
   "metadata": {},
   "outputs": [
    {
     "name": "stdout",
     "output_type": "stream",
     "text": [
      "[[   2  143   40  933  140  591    4  124   24  110]\n",
      " [   2  110    4  110    5    3    0    0    0    0]\n",
      " [   2   11   50   43 1201  316    9  201   74    9]]\n"
     ]
    }
   ],
   "source": [
    "print(tensor[:3, :10])"
   ]
  },
  {
   "cell_type": "markdown",
   "id": "a80af873",
   "metadata": {},
   "source": [
    "### 구축된 단어 토큰 확인"
   ]
  },
  {
   "cell_type": "code",
   "execution_count": 8,
   "id": "1c22f729",
   "metadata": {},
   "outputs": [
    {
     "name": "stdout",
     "output_type": "stream",
     "text": [
      "1 : <unk>\n",
      "2 : <start>\n",
      "3 : <end>\n",
      "4 : ,\n",
      "5 : .\n",
      "6 : the\n",
      "7 : and\n",
      "8 : i\n",
      "9 : to\n",
      "10 : of\n"
     ]
    }
   ],
   "source": [
    "# tokenizer.index_word: 현재 계산된 단어의 인덱스와 인덱스에 해당하는 단어를 dictionary 형대로 반환 (Ex. {index: '~~', index: '~~', ...})\n",
    "for idx in tokenizer.index_word:\n",
    "    print(idx, \":\", tokenizer.index_word[idx])\n",
    "\n",
    "    if idx >= 10: break"
   ]
  },
  {
   "cell_type": "markdown",
   "id": "6f1b5c73",
   "metadata": {},
   "source": [
    "### 토큰화된 단어가 없을 경우 패딩(padding) 으로 처리 된다."
   ]
  },
  {
   "cell_type": "code",
   "execution_count": 9,
   "id": "a7bf953d",
   "metadata": {},
   "outputs": [
    {
     "name": "stdout",
     "output_type": "stream",
     "text": [
      "[  2 143  40 933 140 591   4 124  24 110   5   3   0   0   0   0   0   0\n",
      "   0]\n",
      "[143  40 933 140 591   4 124  24 110   5   3   0   0   0   0   0   0   0\n",
      "   0]\n"
     ]
    }
   ],
   "source": [
    "# tensor에서 마지막 토큰을 잘라내서 소스 문장을 생성합니다\n",
    "# 마지막 토큰은 <end>가 아니라 <pad>일 가능성이 높습니다.\n",
    "src_input = tensor[:, :-1]  \n",
    "# tensor에서 <start>를 잘라내서 타겟 문장을 생성합니다.\n",
    "tgt_input = tensor[:, 1:]    \n",
    "\n",
    "print(src_input[0])\n",
    "print(tgt_input[0])"
   ]
  },
  {
   "cell_type": "markdown",
   "id": "f756f22b",
   "metadata": {},
   "source": [
    "### 메소드 객체 생성"
   ]
  },
  {
   "cell_type": "code",
   "execution_count": 10,
   "id": "0ca385c3",
   "metadata": {},
   "outputs": [
    {
     "data": {
      "text/plain": [
       "<BatchDataset shapes: ((256, 19), (256, 19)), types: (tf.int32, tf.int32)>"
      ]
     },
     "execution_count": 10,
     "metadata": {},
     "output_type": "execute_result"
    }
   ],
   "source": [
    "BUFFER_SIZE = len(src_input)\n",
    "BATCH_SIZE = 256\n",
    "steps_per_epoch = len(src_input) // BATCH_SIZE\n",
    "\n",
    " # tokenizer가 구축한 단어사전 내 7000개와, 여기 포함되지 않은 0:<pad>를 포함하여 7001개\n",
    " # tokenizer.num_words: 주어진 데이터의 문장들에서 빈도수가 높은 n개의 단어만 선택\n",
    " # tokenize() 함수에서 num_words를 7000개로 선언했기 때문에, tokenizer.num_words의 값은 7000\n",
    "VOCAB_SIZE = tokenizer.num_words + 1   \n",
    "\n",
    "# 준비한 데이터 소스로부터 데이터셋을 만듭니다\n",
    "# 데이터셋에 대해서는 아래 문서를 참고하세요\n",
    "# 자세히 알아둘수록 도움이 많이 되는 중요한 문서입니다\n",
    "# https://www.tensorflow.org/api_docs/python/tf/data/Dataset\n",
    "dataset = tf.data.Dataset.from_tensor_slices((src_input, tgt_input))\n",
    "dataset = dataset.shuffle(BUFFER_SIZE)\n",
    "dataset = dataset.batch(BATCH_SIZE, drop_remainder=True)\n",
    "dataset"
   ]
  },
  {
   "cell_type": "markdown",
   "id": "79bc52cf",
   "metadata": {},
   "source": [
    "### 단어 백터화"
   ]
  },
  {
   "cell_type": "code",
   "execution_count": 11,
   "id": "40463959",
   "metadata": {},
   "outputs": [],
   "source": [
    "class TextGenerator(tf.keras.Model):\n",
    "    def __init__(self, vocab_size, embedding_size, hidden_size):\n",
    "        super().__init__()\n",
    "        # Embedding 레이어, 2개의 LSTM 레이어, 1개의 Dense 레이어로 구성되어 있다.\n",
    "        # Embedding 레이어는 단어 사전의 인덱스 값을 해당 인덱스 번째의 워드 벡터로 바꿔준다.\n",
    "        # 이 워드 벡터는 의미 벡터 공간에서 단어의 추상적 표현으로 사용된다. \n",
    "        self.embedding = tf.keras.layers.Embedding(vocab_size, embedding_size) \n",
    "        self.rnn_1 = tf.keras.layers.LSTM(hidden_size, return_sequences=True)  \n",
    "        self.rnn_2 = tf.keras.layers.LSTM(hidden_size, return_sequences=True)\n",
    "        self.linear = tf.keras.layers.Dense(vocab_size)\n",
    "        \n",
    "    def call(self, x):\n",
    "        out = self.embedding(x)\n",
    "        out = self.rnn_1(out)\n",
    "        out = self.rnn_2(out)\n",
    "        out = self.linear(out)\n",
    "        \n",
    "        return out\n",
    "# embedding size 값이 커질수록 단어의 추상적인 특징들을 더 잡아낼 수 있지만\n",
    "# 그만큼 충분한 데이터가 없으면 안좋은 결과 값을 가져옵니다!   \n",
    "embedding_size = 256 # 워드 벡터의 차원수를 말하며 단어가 추상적으로 표현되는 크기입니다.\n",
    "hidden_size = 1024 # 모델에 얼마나 많은 일꾼을 둘 것인가? 정도로 이해하면 좋다.\n",
    "model = TextGenerator(tokenizer.num_words + 1, embedding_size , hidden_size) # tokenizer.num_words에 +1인 이유는 문장에 없는 pad가 사용되었기 때문이다."
   ]
  },
  {
   "cell_type": "markdown",
   "id": "50106be8",
   "metadata": {},
   "source": [
    "### 단어 배치 확인"
   ]
  },
  {
   "cell_type": "code",
   "execution_count": 12,
   "id": "155db8a3",
   "metadata": {},
   "outputs": [
    {
     "data": {
      "text/plain": [
       "<tf.Tensor: shape=(256, 19, 7001), dtype=float32, numpy=\n",
       "array([[[-1.4701027e-04,  1.5659770e-04,  1.0069630e-05, ...,\n",
       "          3.3869644e-04,  1.9284943e-04, -2.2010092e-04],\n",
       "        [-4.3501068e-04,  4.9064291e-04, -2.8755638e-04, ...,\n",
       "          3.9466243e-04,  2.3047462e-04, -2.2768960e-04],\n",
       "        [-9.4380364e-04,  8.0985011e-04, -3.5236945e-04, ...,\n",
       "          8.9036228e-05,  1.1831527e-04, -4.3061952e-04],\n",
       "        ...,\n",
       "        [ 5.9310766e-04, -8.8519795e-04, -3.8198936e-03, ...,\n",
       "         -6.3999085e-04, -1.3649805e-03,  7.0818036e-04],\n",
       "        [ 1.0583817e-03, -1.1860838e-03, -3.9981166e-03, ...,\n",
       "         -6.9553312e-04, -1.5428887e-03,  9.5571135e-04],\n",
       "        [ 1.5117548e-03, -1.4482966e-03, -4.0959562e-03, ...,\n",
       "         -7.6125079e-04, -1.6861839e-03,  1.1888503e-03]],\n",
       "\n",
       "       [[-1.4701027e-04,  1.5659770e-04,  1.0069630e-05, ...,\n",
       "          3.3869644e-04,  1.9284943e-04, -2.2010092e-04],\n",
       "        [-4.7098871e-04,  5.9353927e-04, -9.3359304e-05, ...,\n",
       "          2.6692657e-04,  4.3948228e-04, -2.8257462e-04],\n",
       "        [-4.8909243e-04,  1.3328167e-03, -1.3715461e-04, ...,\n",
       "          2.4273989e-04,  8.3509850e-04, -5.7204027e-04],\n",
       "        ...,\n",
       "        [-1.3222874e-04, -3.9574146e-04, -1.7262889e-03, ...,\n",
       "         -8.5780694e-04, -1.8713383e-03, -7.3441322e-04],\n",
       "        [ 2.5415115e-04, -7.9941412e-04, -2.1119502e-03, ...,\n",
       "         -9.6167804e-04, -1.9034850e-03, -4.5413573e-04],\n",
       "        [ 7.0489547e-04, -1.1574263e-03, -2.4471490e-03, ...,\n",
       "         -1.0522860e-03, -1.9131151e-03, -1.3563751e-04]],\n",
       "\n",
       "       [[-1.4701027e-04,  1.5659770e-04,  1.0069630e-05, ...,\n",
       "          3.3869644e-04,  1.9284943e-04, -2.2010092e-04],\n",
       "        [ 5.6097415e-05, -5.2970747e-05, -9.7363099e-06, ...,\n",
       "          4.7712788e-04,  5.2420131e-04, -1.6913474e-04],\n",
       "        [-7.4881291e-06, -2.0886971e-04,  9.8096229e-05, ...,\n",
       "          4.8972422e-04,  7.9520588e-04, -1.6651125e-04],\n",
       "        ...,\n",
       "        [ 2.0614562e-03, -1.7342661e-03, -3.1688183e-03, ...,\n",
       "         -1.6773867e-03, -1.1126155e-03,  1.1450716e-03],\n",
       "        [ 2.3820000e-03, -1.8668133e-03, -3.2789491e-03, ...,\n",
       "         -1.6931979e-03, -1.2906265e-03,  1.3218211e-03],\n",
       "        [ 2.6832614e-03, -1.9829019e-03, -3.3394771e-03, ...,\n",
       "         -1.6948730e-03, -1.4469825e-03,  1.4938094e-03]],\n",
       "\n",
       "       ...,\n",
       "\n",
       "       [[-1.4701027e-04,  1.5659770e-04,  1.0069630e-05, ...,\n",
       "          3.3869644e-04,  1.9284943e-04, -2.2010092e-04],\n",
       "        [-4.6701927e-04,  3.0915206e-04, -1.0950797e-04, ...,\n",
       "          8.9976820e-04,  3.0096754e-04, -2.7120044e-04],\n",
       "        [-5.4015091e-04,  2.7769979e-04, -7.6849404e-04, ...,\n",
       "          9.9237543e-04,  4.9999455e-04,  4.0570467e-05],\n",
       "        ...,\n",
       "        [ 3.0683288e-03, -2.1257671e-03, -3.5207290e-03, ...,\n",
       "         -1.2885920e-03, -1.5926092e-03,  1.8800265e-03],\n",
       "        [ 3.3188176e-03, -2.1907990e-03, -3.4523576e-03, ...,\n",
       "         -1.2958958e-03, -1.6884439e-03,  2.0354176e-03],\n",
       "        [ 3.5326502e-03, -2.2491412e-03, -3.3696040e-03, ...,\n",
       "         -1.2978810e-03, -1.7755911e-03,  2.1680961e-03]],\n",
       "\n",
       "       [[-1.4701027e-04,  1.5659770e-04,  1.0069630e-05, ...,\n",
       "          3.3869644e-04,  1.9284943e-04, -2.2010092e-04],\n",
       "        [-4.7098871e-04,  5.9353927e-04, -9.3359304e-05, ...,\n",
       "          2.6692657e-04,  4.3948228e-04, -2.8257462e-04],\n",
       "        [-7.6790870e-04,  8.7098696e-04, -3.5822985e-05, ...,\n",
       "          4.4123712e-04,  2.0804896e-04, -2.0227967e-04],\n",
       "        ...,\n",
       "        [ 4.1925651e-04,  8.0044352e-05, -1.4813865e-03, ...,\n",
       "         -1.7913282e-03, -7.2033098e-04, -6.4143253e-04],\n",
       "        [ 9.1116177e-04, -4.2719420e-04, -1.9271108e-03, ...,\n",
       "         -1.8864952e-03, -8.9031312e-04, -2.3233917e-04],\n",
       "        [ 1.4178605e-03, -8.7623444e-04, -2.3087240e-03, ...,\n",
       "         -1.9510160e-03, -1.0364261e-03,  1.7931362e-04]],\n",
       "\n",
       "       [[-1.4701027e-04,  1.5659770e-04,  1.0069630e-05, ...,\n",
       "          3.3869644e-04,  1.9284943e-04, -2.2010092e-04],\n",
       "        [-2.2891346e-04,  2.6028106e-04, -2.3196530e-04, ...,\n",
       "          3.5931190e-04,  5.9057878e-05, -4.6305210e-04],\n",
       "        [-4.8419589e-04,  5.5485807e-04, -6.4906647e-04, ...,\n",
       "          2.4442861e-04, -7.8202276e-05, -4.5239486e-04],\n",
       "        ...,\n",
       "        [ 3.3271431e-03, -1.8763203e-03, -3.4755000e-03, ...,\n",
       "         -1.3332003e-03, -1.9119529e-03,  1.8233990e-03],\n",
       "        [ 3.5723245e-03, -1.9825150e-03, -3.4046625e-03, ...,\n",
       "         -1.3337091e-03, -1.9537685e-03,  2.0039682e-03],\n",
       "        [ 3.7737878e-03, -2.0762668e-03, -3.3227068e-03, ...,\n",
       "         -1.3273533e-03, -1.9951807e-03,  2.1541747e-03]]], dtype=float32)>"
      ]
     },
     "execution_count": 12,
     "metadata": {},
     "output_type": "execute_result"
    }
   ],
   "source": [
    "# 데이터셋에서 데이터 한 배치만 불러오는 방법입니다.\n",
    "# 지금은 동작 원리에 너무 빠져들지 마세요~\n",
    "for src_sample, tgt_sample in dataset.take(1): break\n",
    "\n",
    "# 한 배치만 불러온 데이터를 모델에 넣어봅니다\n",
    "model(src_sample)"
   ]
  },
  {
   "cell_type": "markdown",
   "id": "c917dba3",
   "metadata": {},
   "source": [
    "### 모델 구조 확인"
   ]
  },
  {
   "cell_type": "code",
   "execution_count": 13,
   "id": "0a955a1e",
   "metadata": {},
   "outputs": [
    {
     "name": "stdout",
     "output_type": "stream",
     "text": [
      "Model: \"text_generator\"\n",
      "_________________________________________________________________\n",
      "Layer (type)                 Output Shape              Param #   \n",
      "=================================================================\n",
      "embedding (Embedding)        multiple                  1792256   \n",
      "_________________________________________________________________\n",
      "lstm (LSTM)                  multiple                  5246976   \n",
      "_________________________________________________________________\n",
      "lstm_1 (LSTM)                multiple                  8392704   \n",
      "_________________________________________________________________\n",
      "dense (Dense)                multiple                  7176025   \n",
      "=================================================================\n",
      "Total params: 22,607,961\n",
      "Trainable params: 22,607,961\n",
      "Non-trainable params: 0\n",
      "_________________________________________________________________\n"
     ]
    }
   ],
   "source": [
    "# 모델의 구조를 확인합니다.\n",
    "model.summary()"
   ]
  },
  {
   "cell_type": "markdown",
   "id": "ffb712ad",
   "metadata": {},
   "source": [
    "### 모델학습 시키기"
   ]
  },
  {
   "cell_type": "code",
   "execution_count": 14,
   "id": "c7482e24",
   "metadata": {},
   "outputs": [
    {
     "name": "stdout",
     "output_type": "stream",
     "text": [
      "Epoch 1/30\n",
      "93/93 [==============================] - 19s 160ms/step - loss: 3.6444\n",
      "Epoch 2/30\n",
      "93/93 [==============================] - 15s 162ms/step - loss: 2.9521\n",
      "Epoch 3/30\n",
      "93/93 [==============================] - 15s 163ms/step - loss: 2.8426\n",
      "Epoch 4/30\n",
      "93/93 [==============================] - 16s 167ms/step - loss: 2.7414\n",
      "Epoch 5/30\n",
      "93/93 [==============================] - 16s 171ms/step - loss: 2.6749\n",
      "Epoch 6/30\n",
      "93/93 [==============================] - 16s 174ms/step - loss: 2.6177\n",
      "Epoch 7/30\n",
      "93/93 [==============================] - 17s 178ms/step - loss: 2.5583\n",
      "Epoch 8/30\n",
      "93/93 [==============================] - 16s 177ms/step - loss: 2.5052\n",
      "Epoch 9/30\n",
      "93/93 [==============================] - 16s 174ms/step - loss: 2.4545\n",
      "Epoch 10/30\n",
      "93/93 [==============================] - 16s 174ms/step - loss: 2.4085\n",
      "Epoch 11/30\n",
      "93/93 [==============================] - 16s 175ms/step - loss: 2.3628\n",
      "Epoch 12/30\n",
      "93/93 [==============================] - 16s 176ms/step - loss: 2.3165\n",
      "Epoch 13/30\n",
      "93/93 [==============================] - 16s 176ms/step - loss: 2.2702\n",
      "Epoch 14/30\n",
      "93/93 [==============================] - 16s 176ms/step - loss: 2.2226\n",
      "Epoch 15/30\n",
      "93/93 [==============================] - 16s 176ms/step - loss: 2.1760\n",
      "Epoch 16/30\n",
      "93/93 [==============================] - 16s 175ms/step - loss: 2.1312\n",
      "Epoch 17/30\n",
      "93/93 [==============================] - 16s 175ms/step - loss: 2.0846\n",
      "Epoch 18/30\n",
      "93/93 [==============================] - 16s 176ms/step - loss: 2.0387\n",
      "Epoch 19/30\n",
      "93/93 [==============================] - 16s 176ms/step - loss: 1.9908\n",
      "Epoch 20/30\n",
      "93/93 [==============================] - 16s 176ms/step - loss: 1.9450\n",
      "Epoch 21/30\n",
      "93/93 [==============================] - 16s 176ms/step - loss: 1.8978\n",
      "Epoch 22/30\n",
      "93/93 [==============================] - 16s 176ms/step - loss: 1.8520\n",
      "Epoch 23/30\n",
      "93/93 [==============================] - 16s 176ms/step - loss: 1.8054\n",
      "Epoch 24/30\n",
      "93/93 [==============================] - 16s 176ms/step - loss: 1.7592\n",
      "Epoch 25/30\n",
      "93/93 [==============================] - 16s 176ms/step - loss: 1.7117\n",
      "Epoch 26/30\n",
      "93/93 [==============================] - 16s 176ms/step - loss: 1.6665\n",
      "Epoch 27/30\n",
      "93/93 [==============================] - 16s 176ms/step - loss: 1.6189\n",
      "Epoch 28/30\n",
      "93/93 [==============================] - 16s 176ms/step - loss: 1.5708\n",
      "Epoch 29/30\n",
      "93/93 [==============================] - 16s 176ms/step - loss: 1.5222\n",
      "Epoch 30/30\n",
      "93/93 [==============================] - 16s 176ms/step - loss: 1.4744\n"
     ]
    },
    {
     "data": {
      "text/plain": [
       "<keras.callbacks.History at 0x7f9147a5b220>"
      ]
     },
     "execution_count": 14,
     "metadata": {},
     "output_type": "execute_result"
    }
   ],
   "source": [
    "# optimizer와 loss등은 차차 배웁니다\n",
    "# 혹시 미리 알고 싶다면 아래 문서를 참고하세요\n",
    "# https://www.tensorflow.org/api_docs/python/tf/keras/optimizers\n",
    "# https://www.tensorflow.org/api_docs/python/tf/keras/losses\n",
    "# 양이 상당히 많은 편이니 지금 보는 것은 추천하지 않습니다\n",
    "\n",
    "# Adam 알고리즘을 구현하는 optimzier이며 어떤 optimzier를 써야할지 모른다면 Adam을 쓰는 것도 방법이다.\n",
    "# 우리가 학습을 할 때 최대한 틀리지 않는 방향으로 학습을 해야한다.\n",
    "# 여기서 얼마나 틀리는지(loss)를 알게하는 함수가 손실함수 이다.\n",
    "# 이 손실함수의 최소값을 찾는 것을 학습의 목표로 하며 여기서 최소값을 찾아가는 과정을 optimization 이라하고\n",
    "# 이를 수행하는 알고리즘을 optimizer(최적화)라고 한다.\n",
    "\n",
    "optimizer = tf.keras.optimizers.Adam() # Adam은 현재 가장 많이 사용하는 옵티마이저이다. 자세한 내용은 차차 배운다.\n",
    "loss = tf.keras.losses.SparseCategoricalCrossentropy( # 훈련 데이터의 라벨이 정수의 형태로 제공될 때 사용하는 손실함수이다.\n",
    "    from_logits=True, # 기본값은 False이다. 모델에 의해 생성된 출력 값이 정규화되지 않았음을 손실 함수에 알려준다. 즉 softmax함수가 적용되지 않았다는걸 의미한다. \n",
    "    reduction='none'  # 기본값은 SUM이다. 각자 나오는 값의 반환 원할 때 None을 사용한다.\n",
    ")\n",
    "# 모델을 학습시키키 위한 학습과정을 설정하는 단계이다.\n",
    "model.compile(loss=loss, optimizer=optimizer) # 손실함수와 훈련과정을 설정했다.\n",
    "model.fit(dataset, epochs=30) # 만들어둔 데이터셋으로 모델을 학습한다. 30번 학습을 반복하겠다는 의미다."
   ]
  },
  {
   "cell_type": "markdown",
   "id": "c37fbbc2",
   "metadata": {},
   "source": [
    "### 평가하기"
   ]
  },
  {
   "cell_type": "code",
   "execution_count": 15,
   "id": "85dee5db",
   "metadata": {},
   "outputs": [],
   "source": [
    "#문장생성 함수 정의\n",
    "#모델에게 시작 문장을 전달하면 모델이 시작 문장을 바탕으로 작문을 진행\n",
    "def generate_text(model, tokenizer, init_sentence=\"<start>\", max_len=20): #시작 문자열을 init_sentence 로 받으며 디폴트값은 <start> 를 받는다\n",
    "    # 테스트를 위해서 입력받은 init_sentence도 텐서로 변환합니다\n",
    "    test_input = tokenizer.texts_to_sequences([init_sentence]) #텍스트 안의 단어들을 숫자의 시퀀스의 형태로 변환\n",
    "    test_tensor = tf.convert_to_tensor(test_input, dtype=tf.int64)\n",
    "    end_token = tokenizer.word_index[\"<end>\"]\n",
    "\n",
    "    # 단어 하나씩 예측해 문장을 만듭니다\n",
    "    #    1. 입력받은 문장의 텐서를 입력합니다\n",
    "    #    2. 예측된 값 중 가장 높은 확률인 word index를 뽑아냅니다\n",
    "    #    3. 2에서 예측된 word index를 문장 뒤에 붙입니다\n",
    "    #    4. 모델이 <end>를 예측했거나, max_len에 도달했다면 문장 생성을 마칩니다 (도달 하지 못하였으면 while 루프를 돌면서 다음 단어를 예측)\n",
    "    while True: #루프를 돌면서 init_sentence에 단어를 하나씩 생성성\n",
    "        # 1\n",
    "        predict = model(test_tensor) \n",
    "        # 2\n",
    "        predict_word = tf.argmax(tf.nn.softmax(predict, axis=-1), axis=-1)[:, -1] \n",
    "        # 3 \n",
    "        test_tensor = tf.concat([test_tensor, tf.expand_dims(predict_word, axis=0)], axis=-1)\n",
    "        # 4 \n",
    "        if predict_word.numpy()[0] == end_token: break\n",
    "        if test_tensor.shape[1] >= max_len: break\n",
    "\n",
    "    generated = \"\"\n",
    "    # tokenizer를 이용해 word index를 단어로 하나씩 변환합니다 \n",
    "    for word_index in test_tensor[0].numpy():\n",
    "        generated += tokenizer.index_word[word_index] + \" \"\n",
    "\n",
    "    return generated #최종적으로 모델이 생성한 문장을 반환"
   ]
  },
  {
   "cell_type": "markdown",
   "id": "c440dd8b",
   "metadata": {},
   "source": [
    "### 문자생성 함수 확인"
   ]
  },
  {
   "cell_type": "code",
   "execution_count": 16,
   "id": "9a30d7f5",
   "metadata": {},
   "outputs": [
    {
     "data": {
      "text/plain": [
       "'<start> he is a man , and , with a <unk> , <end> '"
      ]
     },
     "execution_count": 16,
     "metadata": {},
     "output_type": "execute_result"
    }
   ],
   "source": [
    "generate_text(model, tokenizer, init_sentence=\"<start> he\") # 시작문장으로 he를 넣어 문장생성 함수 실행"
   ]
  },
  {
   "cell_type": "markdown",
   "id": "823e17b6",
   "metadata": {},
   "source": [
    "# 프로젝트\n",
    "# 멋진 작사가 만들기"
   ]
  },
  {
   "cell_type": "markdown",
   "id": "12b3f06b",
   "metadata": {},
   "source": [
    "## 라이브러리 버전 확인"
   ]
  },
  {
   "cell_type": "code",
   "execution_count": 17,
   "id": "741da599",
   "metadata": {},
   "outputs": [
    {
     "name": "stdout",
     "output_type": "stream",
     "text": [
      "2.6.0\n"
     ]
    }
   ],
   "source": [
    "import glob  #glob 모듈의 glob 함수는 사용자가 제시한 조건에 맞는 파일명을 리스트 형식으로 반환한다\n",
    "import tensorflow\n",
    "\n",
    "print(tensorflow.__version__)"
   ]
  },
  {
   "cell_type": "markdown",
   "id": "05a2266e",
   "metadata": {},
   "source": [
    "## 데이터 읽어오기"
   ]
  },
  {
   "cell_type": "code",
   "execution_count": 18,
   "id": "040666ae",
   "metadata": {},
   "outputs": [
    {
     "name": "stdout",
     "output_type": "stream",
     "text": [
      "데이터 크기: 187088\n",
      "Examples:\n",
      " ['', '', '[Spoken Intro:]']\n"
     ]
    }
   ],
   "source": [
    "import glob\n",
    "import os\n",
    "\n",
    "txt_file_path = os.getenv('HOME')+'/aiffel/lyricist/data/lyrics/*' #os.getenv(x)함수는 환경 변수x의 값을 포함하는 문자열 변수를 반환합니다. txt_file_path 에 \"/root/aiffel/lyricist/data/lyrics/*\" 저장\n",
    "\n",
    "txt_list = glob.glob(txt_file_path) #txt_file_path 경로에 있는 모든 파일명을 리스트 형식으로 txt_list 에 할당\n",
    "\n",
    "raw_corpus = [] \n",
    "\n",
    "# 여러개의 txt 파일을 모두 읽어서 raw_corpus 에 담습니다.\n",
    "for txt_file in txt_list:\n",
    "    with open(txt_file, \"r\") as f:\n",
    "        raw = f.read().splitlines() #read() : 파일 전체의 내용을 하나의 문자열로 읽어온다. , splitlines()  : 여러라인으로 구분되어 있는 문자열을 한라인씩 분리하여 리스트로 반환\n",
    "        raw_corpus.extend(raw) # extend() : 리스트함수로 추가적인 내용을 연장 한다.\n",
    "\n",
    "print(\"데이터 크기:\", len(raw_corpus))\n",
    "print(\"Examples:\\n\", raw_corpus[:3])"
   ]
  },
  {
   "cell_type": "code",
   "execution_count": 19,
   "id": "8c45e5cf",
   "metadata": {},
   "outputs": [
    {
     "name": "stdout",
     "output_type": "stream",
     "text": [
      "['', '', '[Spoken Intro:]', 'You ever want something ', \"that you know you shouldn't have \", \"The more you know you shouldn't have it, \", 'The more you want it ', 'And then one day you get it, ', \"It's so good too \", \"But it's just like my girl \"]\n"
     ]
    }
   ],
   "source": [
    "print(raw_corpus[:10])"
   ]
  },
  {
   "cell_type": "markdown",
   "id": "1fa1d46d",
   "metadata": {},
   "source": [
    "## 데이터 정제"
   ]
  },
  {
   "cell_type": "code",
   "execution_count": 20,
   "id": "2b18c895",
   "metadata": {},
   "outputs": [
    {
     "name": "stdout",
     "output_type": "stream",
     "text": [
      "[Spoken Intro:]\n",
      "You ever want something \n",
      "that you know you shouldn't have \n",
      "The more you know you shouldn't have it, \n",
      "The more you want it \n",
      "And then one day you get it, \n",
      "It's so good too \n",
      "But it's just like my girl \n"
     ]
    }
   ],
   "source": [
    "# enumerate() 함수를 이용하여 raw_corpus list 내에 저장된 문장과 그 문장의 인덱스를 반환 (인덱스, 문장 순)\n",
    "for idx, sentence in enumerate(raw_corpus):\n",
    "    if len(sentence) == 0: continue   # 길이가 0인 문장은 건너뜁니다.\n",
    "    if sentence[-1] == \":\": continue  # 문장의 끝이 : 인 문장은 건너뜁니다.\n",
    "\n",
    "    if idx > 9: break   # 일단 문장 10개만 확인해 볼 겁니다.\n",
    "        \n",
    "    print(sentence)"
   ]
  },
  {
   "cell_type": "code",
   "execution_count": 21,
   "id": "b2485a5e",
   "metadata": {},
   "outputs": [],
   "source": [
    "def preprocess_sentence(sentence):\n",
    "    sentence = sentence.lower().strip() \n",
    "    sentence = re.sub(r\"([?.!,¿])\", r\" \\1 \", sentence) \n",
    "    sentence = re.sub(r'[\" \"]+', \" \", sentence) \n",
    "    sentence = re.sub(r\"[^a-zA-Z?.!,¿]+\", \" \", sentence) \n",
    "    sentence = sentence.strip() \n",
    "    sentence = '<start> ' + sentence + ' <end>' \n",
    "    return sentence"
   ]
  },
  {
   "cell_type": "code",
   "execution_count": 22,
   "id": "3f16530a",
   "metadata": {},
   "outputs": [
    {
     "data": {
      "text/plain": [
       "['<start> spoken intro <end>',\n",
       " '<start> you ever want something <end>',\n",
       " '<start> that you know you shouldn t have <end>',\n",
       " '<start> the more you know you shouldn t have it , <end>',\n",
       " '<start> the more you want it <end>',\n",
       " '<start> and then one day you get it , <end>',\n",
       " '<start> it s so good too <end>',\n",
       " '<start> but it s just like my girl <end>',\n",
       " '<start> when she s around me <end>',\n",
       " '<start> i just feel so good , so good <end>']"
      ]
     },
     "execution_count": 22,
     "metadata": {},
     "output_type": "execute_result"
    }
   ],
   "source": [
    "corpus = []\n",
    "for sentence in raw_corpus:\n",
    "    if len(sentence) == 0: continue\n",
    "    if sentence[-1] == \":\": continue\n",
    "    if len(sentence.split()) >= 13: continue  \n",
    "    preprocessed_sentence = preprocess_sentence(sentence)\n",
    "    corpus.append(preprocessed_sentence)\n",
    "corpus[:10]"
   ]
  },
  {
   "cell_type": "markdown",
   "id": "2013d26c",
   "metadata": {},
   "source": [
    "## 평가 데이터셋 분리"
   ]
  },
  {
   "cell_type": "code",
   "execution_count": 23,
   "id": "e053e466",
   "metadata": {},
   "outputs": [
    {
     "name": "stdout",
     "output_type": "stream",
     "text": [
      "[[   2 2681 2524 ...    0    0    0]\n",
      " [   2    7  161 ...    0    0    0]\n",
      " [   2   17    7 ...    0    0    0]\n",
      " ...\n",
      " [   2   44    6 ...    0    0    0]\n",
      " [   2   31    7 ...    0    0    0]\n",
      " [   2  304    1 ...    0    0    0]] <keras_preprocessing.text.Tokenizer object at 0x7f90b956b220>\n"
     ]
    }
   ],
   "source": [
    "def tokenize(corpus):\n",
    "    # 12,000단어를 기억할 수 있는 tokenizer를 만들겁니다\n",
    "    # 우리는 이미 문장을 정제했으니 filters가 필요없어요\n",
    "    # 12,000단어에 포함되지 못한 단어는 '<unk>'로 바꿀거에요\n",
    "    tokenizer = tf.keras.preprocessing.text.Tokenizer(\n",
    "        num_words=12000, \n",
    "        filters=' ',\n",
    "        oov_token=\"<unk>\"\n",
    "    )\n",
    "    # corpus를 이용해 tokenizer 내부의 단어장을 완성합니다\n",
    "    # tokenizer.fit_on_texts(texts): 문자 데이터를 입력받아 리스트의 형태로 변환하는 메서드\n",
    "    tokenizer.fit_on_texts(corpus)\n",
    "    # 준비한 tokenizer를 이용해 corpus를 Tensor로 변환합니다\n",
    "    # tokenizer.texts_to_sequences(texts): 텍스트 안의 단어들을 숫자의 시퀀스 형태로 변환하는 메서드\n",
    "    tensor = tokenizer.texts_to_sequences(corpus)   \n",
    "    # 입력 데이터의 시퀀스 길이를 일정하게 맞춰줍니다\n",
    "    # 만약 시퀀스가 짧다면 문장 뒤에 패딩을 붙여 길이를 맞춰줍니다.\n",
    "    # 문장 앞에 패딩을 붙여 길이를 맞추고 싶다면 padding='pre'를 사용합니다\n",
    "    # maxlen 선택적 Int, 모든 시퀀스의 최대 길이. 설정하지 않는 경우,시퀀스는 가장 긴 개별 길이로 채워집니다.\n",
    "    tensor = tf.keras.preprocessing.sequence.pad_sequences(tensor, padding='post',maxlen=15)  \n",
    "    \n",
    "    print(tensor,tokenizer)\n",
    "    return tensor, tokenizer\n",
    "\n",
    "tensor, tokenizer = tokenize(corpus)"
   ]
  },
  {
   "cell_type": "code",
   "execution_count": 24,
   "id": "82469ab4",
   "metadata": {},
   "outputs": [
    {
     "name": "stdout",
     "output_type": "stream",
     "text": [
      "[   2 2681 2524    3    0    0    0    0    0    0    0    0    0    0]\n",
      "[2681 2524    3    0    0    0    0    0    0    0    0    0    0    0]\n"
     ]
    }
   ],
   "source": [
    "# tensor에서 마지막 토큰을 잘라내서 소스 문장을 생성합니다\n",
    "# 마지막 토큰은 <end>가 아니라 <pad>일 가능성이 높습니다.\n",
    "src_input = tensor[:, :-1]  \n",
    "# tensor에서 <start>를 잘라내서 타겟 문장을 생성합니다.\n",
    "tgt_input = tensor[:, 1:]    \n",
    "\n",
    "print(src_input[0])\n",
    "print(tgt_input[0])"
   ]
  },
  {
   "cell_type": "code",
   "execution_count": 25,
   "id": "1eabe4c2",
   "metadata": {},
   "outputs": [
    {
     "data": {
      "text/plain": [
       "<BatchDataset shapes: ((256, 14), (256, 14)), types: (tf.int32, tf.int32)>"
      ]
     },
     "execution_count": 25,
     "metadata": {},
     "output_type": "execute_result"
    }
   ],
   "source": [
    "BUFFER_SIZE = len(src_input)\n",
    "BATCH_SIZE = 256\n",
    "steps_per_epoch = len(src_input) // BATCH_SIZE\n",
    "\n",
    " # tokenizer가 구축한 단어사전 내 12000개와, 여기 포함되지 않은 0:<pad>를 포함하여 12001개\n",
    " # tokenizer.num_words: 주어진 데이터의 문장들에서 빈도수가 높은 n개의 단어만 선택\n",
    " # tokenize() 함수에서 num_words를 12000개로 선언했기 때문에, tokenizer.num_words의 값은 12000\n",
    "VOCAB_SIZE = tokenizer.num_words + 1   \n",
    "\n",
    "# 준비한 데이터 소스로부터 데이터셋을 만듭니다\n",
    "# 데이터셋에 대해서는 아래 문서를 참고하세요\n",
    "# 자세히 알아둘수록 도움이 많이 되는 중요한 문서입니다\n",
    "# https://www.tensorflow.org/api_docs/python/tf/data/Dataset\n",
    "dataset = tf.data.Dataset.from_tensor_slices((src_input, tgt_input))\n",
    "dataset = dataset.shuffle(BUFFER_SIZE)\n",
    "dataset = dataset.batch(BATCH_SIZE, drop_remainder=True)\n",
    "dataset"
   ]
  },
  {
   "cell_type": "code",
   "execution_count": 26,
   "id": "60b1a074",
   "metadata": {},
   "outputs": [],
   "source": [
    "#총 데이터의 20% 를 평가 데이터셋\n",
    "enc_train, enc_val, dec_train, dec_val = train_test_split(src_input, tgt_input, test_size=0.2)"
   ]
  },
  {
   "cell_type": "markdown",
   "id": "c7e73f19",
   "metadata": {},
   "source": [
    "## 인공지능 만들기"
   ]
  },
  {
   "cell_type": "code",
   "execution_count": 27,
   "id": "5c1ef636",
   "metadata": {},
   "outputs": [],
   "source": [
    "class TextGenerator(tf.keras.Model):\n",
    "    def __init__(self, vocab_size, embedding_size, hidden_size):\n",
    "        super().__init__()\n",
    "        # Embedding 레이어, 2개의 LSTM 레이어, 1개의 Dense 레이어로 구성되어 있다.\n",
    "        # Embedding 레이어는 단어 사전의 인덱스 값을 해당 인덱스 번째의 워드 벡터로 바꿔준다.\n",
    "        # 이 워드 벡터는 의미 벡터 공간에서 단어의 추상적 표현으로 사용된다. \n",
    "        self.embedding = tf.keras.layers.Embedding(vocab_size, embedding_size) \n",
    "        self.rnn_1 = tf.keras.layers.LSTM(hidden_size, return_sequences=True)  \n",
    "        self.rnn_2 = tf.keras.layers.LSTM(hidden_size, return_sequences=True)\n",
    "        self.linear = tf.keras.layers.Dense(vocab_size)\n",
    "        \n",
    "    def call(self, x):\n",
    "        out = self.embedding(x)\n",
    "        out = self.rnn_1(out)\n",
    "        out = self.rnn_2(out)\n",
    "        out = self.linear(out)\n",
    "        \n",
    "        return out\n",
    "# embedding size 값이 커질수록 단어의 추상적인 특징들을 더 잡아낼 수 있지만\n",
    "# 그만큼 충분한 데이터가 없으면 안좋은 결과 값을 가져옵니다!   \n",
    "embedding_size = 256 # 워드 벡터의 차원수를 말하며 단어가 추상적으로 표현되는 크기입니다.\n",
    "hidden_size = 1024 # 모델에 얼마나 많은 일꾼을 둘 것인가? 정도로 이해하면 좋다.\n",
    "model = TextGenerator(tokenizer.num_words + 1, embedding_size , hidden_size) # tokenizer.num_words에 +1인 이유는 문장에 없는 pad가 사용되었기 때문이다.\n"
   ]
  },
  {
   "cell_type": "code",
   "execution_count": 28,
   "id": "0c3a163b",
   "metadata": {},
   "outputs": [
    {
     "data": {
      "text/plain": [
       "<tf.Tensor: shape=(256, 14, 12001), dtype=float32, numpy=\n",
       "array([[[ 4.39596770e-05,  2.96364626e-04, -2.80738575e-04, ...,\n",
       "          5.51500780e-05,  1.58399984e-04, -9.17648504e-06],\n",
       "        [-3.78991244e-05,  5.77144558e-04, -6.02610118e-04, ...,\n",
       "          1.60791693e-04,  1.96087363e-04,  8.29983110e-05],\n",
       "        [-2.73002865e-04,  6.69220404e-04, -7.57536618e-04, ...,\n",
       "          1.37928262e-04,  2.49423028e-04,  1.07427302e-04],\n",
       "        ...,\n",
       "        [-2.45601707e-03,  2.43660435e-03, -4.59959585e-04, ...,\n",
       "          6.24069726e-05,  1.17842364e-03,  3.71842034e-04],\n",
       "        [-2.58548511e-03,  2.47794646e-03, -4.04809020e-04, ...,\n",
       "          9.91191191e-05,  1.26727112e-03,  4.29155189e-04],\n",
       "        [-2.66755070e-03,  2.49399245e-03, -3.43729218e-04, ...,\n",
       "          1.24383194e-04,  1.33550703e-03,  4.60391486e-04]],\n",
       "\n",
       "       [[ 4.39596770e-05,  2.96364626e-04, -2.80738575e-04, ...,\n",
       "          5.51500780e-05,  1.58399984e-04, -9.17648504e-06],\n",
       "        [-3.78991244e-05,  5.77144558e-04, -6.02610118e-04, ...,\n",
       "          1.60791693e-04,  1.96087363e-04,  8.29983110e-05],\n",
       "        [-1.09923079e-04,  8.21383379e-04, -8.46973271e-04, ...,\n",
       "         -4.72511238e-05,  3.24388035e-04,  1.92047286e-04],\n",
       "        ...,\n",
       "        [-2.73760845e-04,  1.03345339e-03, -7.09524320e-04, ...,\n",
       "         -7.78294168e-04,  1.41378236e-03,  4.53766406e-04],\n",
       "        [-6.48111105e-04,  1.27730914e-03, -6.66066655e-04, ...,\n",
       "         -5.20013564e-04,  1.39875070e-03,  5.56542189e-04],\n",
       "        [-9.98697244e-04,  1.49449729e-03, -6.02359243e-04, ...,\n",
       "         -2.83245958e-04,  1.37924182e-03,  6.28965267e-04]],\n",
       "\n",
       "       [[ 4.39596770e-05,  2.96364626e-04, -2.80738575e-04, ...,\n",
       "          5.51500780e-05,  1.58399984e-04, -9.17648504e-06],\n",
       "        [ 1.56158407e-04,  5.62066853e-04, -3.42607324e-04, ...,\n",
       "         -1.98816182e-04,  1.41870536e-04,  2.34647188e-04],\n",
       "        [ 3.38077865e-04,  7.41059193e-04, -4.47100145e-04, ...,\n",
       "         -4.41672892e-04, -9.28948648e-05,  1.74533037e-04],\n",
       "        ...,\n",
       "        [-1.19521189e-03,  1.85278966e-03, -8.78562219e-04, ...,\n",
       "         -6.94719376e-04, -1.04814279e-03, -3.08876088e-06],\n",
       "        [-1.52400252e-03,  2.08178791e-03, -8.03903909e-04, ...,\n",
       "         -5.45991119e-04, -7.01678277e-04,  1.31568522e-04],\n",
       "        [-1.79424067e-03,  2.25481414e-03, -7.18134863e-04, ...,\n",
       "         -4.06983250e-04, -3.68457142e-04,  2.35965810e-04]],\n",
       "\n",
       "       ...,\n",
       "\n",
       "       [[ 4.39596770e-05,  2.96364626e-04, -2.80738575e-04, ...,\n",
       "          5.51500780e-05,  1.58399984e-04, -9.17648504e-06],\n",
       "        [-4.44438183e-06,  6.63548824e-04, -1.72227505e-04, ...,\n",
       "          2.10188973e-05,  2.56098254e-04, -1.83051429e-06],\n",
       "        [-8.24546369e-05,  8.23395385e-04, -1.96921828e-04, ...,\n",
       "          7.84722797e-05,  3.42401239e-04, -4.07847474e-05],\n",
       "        ...,\n",
       "        [ 2.70809425e-04,  1.30044436e-03,  5.50493249e-04, ...,\n",
       "         -1.20202859e-03, -2.40343608e-04,  5.79613610e-04],\n",
       "        [-1.46476232e-04,  1.48948445e-03,  3.23945831e-04, ...,\n",
       "         -1.15004287e-03, -2.62172744e-05,  7.96998560e-04],\n",
       "        [-5.90117357e-04,  1.65550096e-03,  1.05729589e-04, ...,\n",
       "         -1.02968572e-03,  1.92204519e-04,  9.66339896e-04]],\n",
       "\n",
       "       [[ 4.39596770e-05,  2.96364626e-04, -2.80738575e-04, ...,\n",
       "          5.51500780e-05,  1.58399984e-04, -9.17648504e-06],\n",
       "        [-6.69275250e-05,  4.59020870e-04, -6.10141258e-04, ...,\n",
       "         -6.71568705e-05,  2.53714970e-04, -1.38493965e-06],\n",
       "        [-4.48809151e-05,  4.54098015e-04, -7.94449705e-04, ...,\n",
       "         -1.36860603e-04,  5.45175222e-04,  1.91008567e-05],\n",
       "        ...,\n",
       "        [ 5.59447275e-04,  1.29058564e-04, -1.35409227e-03, ...,\n",
       "          2.76337727e-04,  1.08402295e-04, -3.21113184e-05],\n",
       "        [ 5.64656686e-04,  6.47195673e-04, -1.31367717e-03, ...,\n",
       "         -3.31665092e-06,  1.03522070e-04, -6.35004326e-05],\n",
       "        [ 3.04872112e-04,  1.13436079e-03, -1.34522060e-03, ...,\n",
       "         -1.04736340e-04,  1.07627580e-04,  3.73188486e-05]],\n",
       "\n",
       "       [[ 4.39596770e-05,  2.96364626e-04, -2.80738575e-04, ...,\n",
       "          5.51500780e-05,  1.58399984e-04, -9.17648504e-06],\n",
       "        [ 1.13327558e-04,  2.32463790e-04, -6.81875041e-04, ...,\n",
       "          1.14744107e-04,  4.97310975e-05,  7.59237664e-05],\n",
       "        [-1.43119541e-04,  1.43353944e-04, -9.58736637e-04, ...,\n",
       "          4.66927333e-04,  1.99573587e-05,  1.52588080e-04],\n",
       "        ...,\n",
       "        [-1.57918641e-03,  7.84499513e-04, -2.14811553e-05, ...,\n",
       "         -3.34953220e-04, -7.37347582e-04, -3.64182692e-04],\n",
       "        [-1.84226769e-03,  1.06450624e-03, -1.19252516e-04, ...,\n",
       "         -2.90891709e-04, -4.89005295e-04, -2.06122175e-04],\n",
       "        [-2.05482473e-03,  1.31380721e-03, -1.93843356e-04, ...,\n",
       "         -2.32801758e-04, -2.36863285e-04, -7.17379226e-05]]],\n",
       "      dtype=float32)>"
      ]
     },
     "execution_count": 28,
     "metadata": {},
     "output_type": "execute_result"
    }
   ],
   "source": [
    "# 데이터셋에서 데이터 한 배치만 불러오는 방법입니다.\n",
    "# 지금은 동작 원리에 너무 빠져들지 마세요~\n",
    "for src_sample, tgt_sample in dataset.take(1): break\n",
    "\n",
    "# 한 배치만 불러온 데이터를 모델에 넣어봅니다\n",
    "model(src_sample)\n"
   ]
  },
  {
   "cell_type": "code",
   "execution_count": 29,
   "id": "8f5b94dd",
   "metadata": {},
   "outputs": [
    {
     "name": "stdout",
     "output_type": "stream",
     "text": [
      "Model: \"text_generator_1\"\n",
      "_________________________________________________________________\n",
      "Layer (type)                 Output Shape              Param #   \n",
      "=================================================================\n",
      "embedding_1 (Embedding)      multiple                  3072256   \n",
      "_________________________________________________________________\n",
      "lstm_2 (LSTM)                multiple                  5246976   \n",
      "_________________________________________________________________\n",
      "lstm_3 (LSTM)                multiple                  8392704   \n",
      "_________________________________________________________________\n",
      "dense_1 (Dense)              multiple                  12301025  \n",
      "=================================================================\n",
      "Total params: 29,012,961\n",
      "Trainable params: 29,012,961\n",
      "Non-trainable params: 0\n",
      "_________________________________________________________________\n"
     ]
    }
   ],
   "source": [
    "model.summary()"
   ]
  },
  {
   "cell_type": "code",
   "execution_count": 30,
   "id": "34c6aefc",
   "metadata": {
    "scrolled": true
   },
   "outputs": [
    {
     "name": "stdout",
     "output_type": "stream",
     "text": [
      "Epoch 1/10\n",
      "496/496 [==============================] - 93s 183ms/step - loss: 3.5261 - val_loss: 3.1592\n",
      "Epoch 2/10\n",
      "496/496 [==============================] - 90s 182ms/step - loss: 3.0560 - val_loss: 2.9747\n",
      "Epoch 3/10\n",
      "496/496 [==============================] - 91s 183ms/step - loss: 2.8918 - val_loss: 2.8615\n",
      "Epoch 4/10\n",
      "496/496 [==============================] - 90s 182ms/step - loss: 2.7635 - val_loss: 2.7834\n",
      "Epoch 5/10\n",
      "496/496 [==============================] - 90s 182ms/step - loss: 2.6558 - val_loss: 2.7163\n",
      "Epoch 6/10\n",
      "496/496 [==============================] - 91s 183ms/step - loss: 2.5587 - val_loss: 2.6625\n",
      "Epoch 7/10\n",
      "496/496 [==============================] - 91s 183ms/step - loss: 2.4692 - val_loss: 2.6189\n",
      "Epoch 8/10\n",
      "496/496 [==============================] - 91s 183ms/step - loss: 2.3856 - val_loss: 2.5812\n",
      "Epoch 9/10\n",
      "496/496 [==============================] - 91s 183ms/step - loss: 2.3063 - val_loss: 2.5488\n",
      "Epoch 10/10\n",
      "496/496 [==============================] - 91s 183ms/step - loss: 2.2322 - val_loss: 2.5225\n"
     ]
    },
    {
     "data": {
      "text/plain": [
       "<keras.callbacks.History at 0x7f9074195640>"
      ]
     },
     "execution_count": 30,
     "metadata": {},
     "output_type": "execute_result"
    }
   ],
   "source": [
    "#모델 학습하기\n",
    "#enc_train, enc_val, dec_train, dec_val\n",
    "optimizer = tf.keras.optimizers.Adam()\n",
    "#Loss\n",
    "# tf.keras.losses.SparseCategoricalCrossentropy : https://www.tensorflow.org/api_docs/python/tf/keras/losses/SparseCategoricalCrossentropy\n",
    "loss = tf.keras.losses.SparseCategoricalCrossentropy( \n",
    "    from_logits=True, reduction='none') # 클래스 분류 문제에서 softmax 함수를 거치면 from_logits = False(default값),그렇지 않으면 from_logits = True.\n",
    "model.compile(loss=loss, optimizer=optimizer)\n",
    "model.fit(enc_train,dec_train,\n",
    "                    epochs=10,\n",
    "                    batch_size=256,\n",
    "                    validation_data=(enc_val, dec_val))"
   ]
  },
  {
   "cell_type": "markdown",
   "id": "896e5804",
   "metadata": {},
   "source": [
    "### 과대적합 문제 개선"
   ]
  },
  {
   "cell_type": "code",
   "execution_count": 31,
   "id": "3bbca363",
   "metadata": {},
   "outputs": [],
   "source": [
    "def generate_text(model, tokenizer, init_sentence=\"<start>\", max_len=15):\n",
    "    # 테스트를 위해서 입력받은 init_sentence도 텐서로 변환합니다\n",
    "    test_input = tokenizer.texts_to_sequences([init_sentence])\n",
    "    test_tensor = tf.convert_to_tensor(test_input, dtype=tf.int64)\n",
    "    end_token = tokenizer.word_index[\"<end>\"]\n",
    "\n",
    "    # 단어 하나씩 예측해 문장을 만듭니다\n",
    "    while True:\n",
    "        # 입력받은 문장의 텐서를 입력\n",
    "        predict = model(test_tensor) \n",
    "        # 예측된 값 중 가장 높은 확률인 word index를 뽑기\n",
    "        predict_word = tf.argmax(tf.nn.softmax(predict, axis=-1), axis=-1)[:, -1] \n",
    "        # 예측된 word index를 문장 뒤에 붙임\n",
    "        test_tensor = tf.concat([test_tensor, tf.expand_dims(predict_word, axis=0)], axis=-1)\n",
    "        # 모델이 <end>를 예측했거나, max_len에 도달했다면 문장 생성을 마침\n",
    "        if predict_word.numpy()[0] == end_token: break\n",
    "        if test_tensor.shape[1] >= max_len: break\n",
    "\n",
    "    generated = \"\"\n",
    "    # tokenizer를 이용해 word index를 단어로 하나씩 변환합니다 \n",
    "    for word_index in test_tensor[0].numpy():\n",
    "        generated += tokenizer.index_word[word_index] + \" \"\n"
   ]
  },
  {
   "cell_type": "code",
   "execution_count": 32,
   "id": "52a8c58b",
   "metadata": {},
   "outputs": [
    {
     "name": "stdout",
     "output_type": "stream",
     "text": [
      "992/992 - 11s - loss: 2.5225\n"
     ]
    }
   ],
   "source": [
    "results = model.evaluate(enc_val,  dec_val, verbose=2) #val을 평가하니 이렇게 나왔다."
   ]
  },
  {
   "cell_type": "code",
   "execution_count": 33,
   "id": "361b2b03",
   "metadata": {},
   "outputs": [],
   "source": [
    "generate_text(model, tokenizer, init_sentence=\"<start> i love\", max_len=15)\n",
    "# generate_text 함수에 lyricist 라 정의한 모델을 이용해서 ilove 로 시작되는 문장을 생성"
   ]
  },
  {
   "cell_type": "code",
   "execution_count": 34,
   "id": "f62ed44e",
   "metadata": {},
   "outputs": [],
   "source": [
    "generate_text(model, tokenizer, init_sentence=\"<start> i hate\", max_len=15)"
   ]
  },
  {
   "cell_type": "code",
   "execution_count": 35,
   "id": "628c3d1c",
   "metadata": {},
   "outputs": [],
   "source": [
    "generate_text(model, tokenizer, init_sentence=\"<start> you kill me\", max_len=15)"
   ]
  },
  {
   "cell_type": "code",
   "execution_count": 36,
   "id": "52a291a1",
   "metadata": {},
   "outputs": [],
   "source": [
    "generate_text(model, tokenizer, init_sentence=\"<start> what\", max_len=15)"
   ]
  },
  {
   "cell_type": "code",
   "execution_count": 37,
   "id": "5a5f61e0",
   "metadata": {},
   "outputs": [],
   "source": [
    "generate_text(model, tokenizer, init_sentence=\"<start> who\", max_len=15)\n"
   ]
  },
  {
   "cell_type": "code",
   "execution_count": 38,
   "id": "a914de69",
   "metadata": {},
   "outputs": [],
   "source": [
    "generate_text(model, tokenizer, init_sentence=\"<start> which\", max_len=15)\n"
   ]
  },
  {
   "cell_type": "code",
   "execution_count": 42,
   "id": "326d9059",
   "metadata": {},
   "outputs": [
    {
     "name": "stdout",
     "output_type": "stream",
     "text": [
      "Epoch 1/77\n",
      "619/619 [==============================] - 105s 165ms/step - loss: 1.5851\n",
      "Epoch 2/77\n",
      "619/619 [==============================] - 102s 165ms/step - loss: 1.5094\n",
      "Epoch 3/77\n",
      "619/619 [==============================] - 102s 165ms/step - loss: 1.4605\n",
      "Epoch 4/77\n",
      "619/619 [==============================] - 102s 164ms/step - loss: 1.4146\n",
      "Epoch 5/77\n",
      "619/619 [==============================] - 102s 165ms/step - loss: 1.3717\n",
      "Epoch 6/77\n",
      "619/619 [==============================] - 102s 165ms/step - loss: 1.3307\n",
      "Epoch 7/77\n",
      "619/619 [==============================] - 102s 165ms/step - loss: 1.2920\n",
      "Epoch 8/77\n",
      "619/619 [==============================] - 102s 164ms/step - loss: 1.2560\n",
      "Epoch 9/77\n",
      "619/619 [==============================] - 102s 165ms/step - loss: 1.2219\n",
      "Epoch 10/77\n",
      "619/619 [==============================] - 102s 165ms/step - loss: 1.1899\n",
      "Epoch 11/77\n",
      "619/619 [==============================] - 102s 165ms/step - loss: 1.1605\n",
      "Epoch 12/77\n",
      "619/619 [==============================] - 102s 165ms/step - loss: 1.1340\n",
      "Epoch 13/77\n",
      "619/619 [==============================] - 102s 164ms/step - loss: 1.1084\n",
      "Epoch 14/77\n",
      "619/619 [==============================] - 102s 165ms/step - loss: 1.0852\n",
      "Epoch 15/77\n",
      "619/619 [==============================] - 102s 165ms/step - loss: 1.0643\n",
      "Epoch 16/77\n",
      "619/619 [==============================] - 102s 164ms/step - loss: 1.0445\n",
      "Epoch 17/77\n",
      "619/619 [==============================] - 102s 164ms/step - loss: 1.0268\n",
      "Epoch 18/77\n",
      "619/619 [==============================] - 102s 165ms/step - loss: 1.0113\n",
      "Epoch 19/77\n",
      "619/619 [==============================] - 102s 165ms/step - loss: 0.9965\n",
      "Epoch 20/77\n",
      "619/619 [==============================] - 102s 165ms/step - loss: 0.9832\n",
      "Epoch 21/77\n",
      "619/619 [==============================] - 102s 165ms/step - loss: 0.9716\n",
      "Epoch 22/77\n",
      "619/619 [==============================] - 102s 164ms/step - loss: 0.9609\n",
      "Epoch 23/77\n",
      "619/619 [==============================] - 102s 164ms/step - loss: 0.9520\n",
      "Epoch 24/77\n",
      "619/619 [==============================] - 102s 165ms/step - loss: 0.9429\n",
      "Epoch 25/77\n",
      "619/619 [==============================] - 102s 165ms/step - loss: 0.9355\n",
      "Epoch 26/77\n",
      "619/619 [==============================] - 102s 165ms/step - loss: 0.9286\n",
      "Epoch 27/77\n",
      "619/619 [==============================] - 102s 165ms/step - loss: 0.9225\n",
      "Epoch 28/77\n",
      "619/619 [==============================] - 102s 164ms/step - loss: 0.9172\n",
      "Epoch 29/77\n",
      "619/619 [==============================] - 102s 164ms/step - loss: 0.9120\n",
      "Epoch 30/77\n",
      "619/619 [==============================] - 102s 164ms/step - loss: 0.9076\n",
      "Epoch 31/77\n",
      "619/619 [==============================] - 102s 165ms/step - loss: 0.9035\n",
      "Epoch 32/77\n",
      "619/619 [==============================] - 102s 164ms/step - loss: 0.8995\n",
      "Epoch 33/77\n",
      "619/619 [==============================] - 102s 164ms/step - loss: 0.8966\n",
      "Epoch 34/77\n",
      "619/619 [==============================] - 102s 164ms/step - loss: 0.8936\n",
      "Epoch 35/77\n",
      "619/619 [==============================] - 102s 164ms/step - loss: 0.8909\n",
      "Epoch 36/77\n",
      "619/619 [==============================] - 102s 164ms/step - loss: 0.8883\n",
      "Epoch 37/77\n",
      "619/619 [==============================] - 102s 164ms/step - loss: 0.8858\n",
      "Epoch 38/77\n",
      "619/619 [==============================] - 102s 164ms/step - loss: 0.8839\n",
      "Epoch 39/77\n",
      "619/619 [==============================] - 102s 164ms/step - loss: 0.8817\n",
      "Epoch 40/77\n",
      "619/619 [==============================] - 102s 164ms/step - loss: 0.8796\n",
      "Epoch 41/77\n",
      "619/619 [==============================] - 102s 165ms/step - loss: 0.8782\n",
      "Epoch 42/77\n",
      "619/619 [==============================] - 102s 165ms/step - loss: 0.8766\n",
      "Epoch 43/77\n",
      "619/619 [==============================] - 102s 165ms/step - loss: 0.8753\n",
      "Epoch 44/77\n",
      "619/619 [==============================] - 102s 165ms/step - loss: 0.8736\n",
      "Epoch 45/77\n",
      "619/619 [==============================] - 102s 164ms/step - loss: 0.8723\n",
      "Epoch 46/77\n",
      "619/619 [==============================] - 102s 164ms/step - loss: 0.8710\n",
      "Epoch 47/77\n",
      "619/619 [==============================] - 102s 164ms/step - loss: 0.8700\n",
      "Epoch 48/77\n",
      "619/619 [==============================] - 102s 164ms/step - loss: 0.8691\n",
      "Epoch 49/77\n",
      "619/619 [==============================] - 102s 164ms/step - loss: 0.8677\n",
      "Epoch 50/77\n",
      "619/619 [==============================] - 102s 164ms/step - loss: 0.8668\n",
      "Epoch 51/77\n",
      "619/619 [==============================] - 102s 164ms/step - loss: 0.8661\n",
      "Epoch 52/77\n",
      "619/619 [==============================] - 102s 164ms/step - loss: 0.8651\n",
      "Epoch 53/77\n",
      "619/619 [==============================] - 102s 164ms/step - loss: 0.8638\n",
      "Epoch 54/77\n",
      "619/619 [==============================] - 102s 164ms/step - loss: 0.8633\n",
      "Epoch 55/77\n",
      "619/619 [==============================] - 102s 164ms/step - loss: 0.8625\n",
      "Epoch 56/77\n",
      "619/619 [==============================] - 102s 164ms/step - loss: 0.8616\n",
      "Epoch 57/77\n",
      "619/619 [==============================] - 102s 164ms/step - loss: 0.8612\n",
      "Epoch 58/77\n",
      "619/619 [==============================] - 102s 164ms/step - loss: 0.8601\n",
      "Epoch 59/77\n",
      "619/619 [==============================] - 102s 164ms/step - loss: 0.8591\n",
      "Epoch 60/77\n",
      "619/619 [==============================] - 102s 164ms/step - loss: 0.8590\n",
      "Epoch 61/77\n",
      "619/619 [==============================] - 102s 164ms/step - loss: 0.8585\n",
      "Epoch 62/77\n",
      "619/619 [==============================] - 102s 164ms/step - loss: 0.8578\n",
      "Epoch 63/77\n",
      "619/619 [==============================] - 102s 164ms/step - loss: 0.8572\n",
      "Epoch 64/77\n",
      "619/619 [==============================] - 102s 164ms/step - loss: 0.8564\n",
      "Epoch 65/77\n",
      "619/619 [==============================] - 102s 164ms/step - loss: 0.8560\n",
      "Epoch 66/77\n",
      "619/619 [==============================] - 102s 164ms/step - loss: 0.8556\n",
      "Epoch 67/77\n",
      "619/619 [==============================] - 102s 164ms/step - loss: 0.8549\n",
      "Epoch 68/77\n",
      "619/619 [==============================] - 102s 164ms/step - loss: 0.8541\n",
      "Epoch 69/77\n",
      "619/619 [==============================] - 102s 164ms/step - loss: 0.8538\n",
      "Epoch 70/77\n",
      "619/619 [==============================] - 102s 164ms/step - loss: 0.8534\n",
      "Epoch 71/77\n",
      "619/619 [==============================] - 102s 164ms/step - loss: 0.8530\n",
      "Epoch 72/77\n",
      "619/619 [==============================] - 102s 164ms/step - loss: 0.8526\n",
      "Epoch 73/77\n",
      "619/619 [==============================] - 102s 164ms/step - loss: 0.8526\n",
      "Epoch 74/77\n",
      "619/619 [==============================] - 101s 164ms/step - loss: 0.8516\n",
      "Epoch 75/77\n",
      "619/619 [==============================] - 101s 164ms/step - loss: 0.8515\n",
      "Epoch 76/77\n",
      "619/619 [==============================] - 102s 164ms/step - loss: 0.8509\n",
      "Epoch 77/77\n",
      "619/619 [==============================] - 102s 164ms/step - loss: 0.8505\n"
     ]
    }
   ],
   "source": [
    "#모델 학습하기\n",
    "#enc_train, enc_val, dec_train, dec_val\n",
    "optimizer = tf.keras.optimizers.Adam()\n",
    "#Loss\n",
    "# tf.keras.losses.SparseCategoricalCrossentropy : https://www.tensorflow.org/api_docs/python/tf/keras/losses/SparseCategoricalCrossentropy\n",
    "loss = tf.keras.losses.SparseCategoricalCrossentropy( \n",
    "    from_logits=True, reduction='none') # 클래스 분류 문제에서 softmax 함수를 거치면 from_logits = False(default값),그렇지 않으면 from_logits = True.\n",
    "model.compile(loss=loss, optimizer=optimizer)\n",
    "Lyric =model.fit(dataset,\n",
    "                    epochs=77,\n",
    "                    )"
   ]
  },
  {
   "cell_type": "code",
   "execution_count": 43,
   "id": "42c54ddd",
   "metadata": {},
   "outputs": [
    {
     "name": "stdout",
     "output_type": "stream",
     "text": [
      "992/992 - 12s - loss: 0.8263\n"
     ]
    }
   ],
   "source": [
    "results = model.evaluate(enc_val,  dec_val, verbose=2)"
   ]
  },
  {
   "cell_type": "code",
   "execution_count": 44,
   "id": "7ea90dad",
   "metadata": {},
   "outputs": [],
   "source": [
    "generate_text(model, tokenizer, init_sentence=\"<start> who\", max_len=15)"
   ]
  },
  {
   "cell_type": "markdown",
   "id": "e1044415",
   "metadata": {},
   "source": [
    "### 벨류 평가 : 0.8 대가 나왔다."
   ]
  },
  {
   "cell_type": "markdown",
   "id": "5dacdaa0",
   "metadata": {},
   "source": [
    "# [결과 및 회고]\n",
    "## 이번 프로젝트 목표인 validation loss가 2.2 이하로 나온것으로 목표치에는 달성하였으나\n",
    "## 문제는 아직 코드의 적합성 및 해석에 있어 이해 및 적용의 부분이 미흡한것 같다.\n",
    "## 과대적합문제가 발생 하였을때 다른 그루분들의 예시를 적용해 보았고 그로인해 목표치를 달성 하였으나\n",
    "## 문제가 발생하였을 때 스스로 서치 및 적용하여 코드를 완성 시키는 부분을 보완해야한다 생각 되었다."
   ]
  },
  {
   "cell_type": "code",
   "execution_count": null,
   "id": "ac85e545",
   "metadata": {},
   "outputs": [],
   "source": []
  }
 ],
 "metadata": {
  "kernelspec": {
   "display_name": "Python 3 (ipykernel)",
   "language": "python",
   "name": "python3"
  },
  "language_info": {
   "codemirror_mode": {
    "name": "ipython",
    "version": 3
   },
   "file_extension": ".py",
   "mimetype": "text/x-python",
   "name": "python",
   "nbconvert_exporter": "python",
   "pygments_lexer": "ipython3",
   "version": "3.9.7"
  }
 },
 "nbformat": 4,
 "nbformat_minor": 5
}
